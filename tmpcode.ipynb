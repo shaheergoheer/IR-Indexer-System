{
 "cells": [
  {
   "cell_type": "code",
   "execution_count": 13,
   "metadata": {},
   "outputs": [],
   "source": [
    "import os\n",
    "from html.parser import HTMLParser\n",
    "from bs4 import BeautifulSoup"
   ]
  },
  {
   "cell_type": "code",
   "execution_count": 2,
   "metadata": {},
   "outputs": [],
   "source": [
    "folder = \"documents\""
   ]
  },
  {
   "cell_type": "code",
   "execution_count": 3,
   "metadata": {},
   "outputs": [],
   "source": [
    "class CustomHTMLParser(HTMLParser):\n",
    "\n",
    "    def __init__(self, *, convert_charrefs: bool = ...) -> None:\n",
    "        super().__init__(convert_charrefs=convert_charrefs)\n",
    "        self.content : str = ''\n",
    "\n",
    "    def handle_data(self, data: str) -> str:\n",
    "        self.content += data\n",
    "        self.content += '\\n'"
   ]
  },
  {
   "cell_type": "code",
   "execution_count": 4,
   "metadata": {},
   "outputs": [
    {
     "name": "stdout",
     "output_type": "stream",
     "text": [
      "['اب', 'ابھی', 'اپنا', 'اپنے', 'اپنی', 'اٹھا', 'اس', 'اسے', 'اسی', 'اگر', 'ان', 'انہوں', 'انہی', 'انہیں', 'انھیں', 'او', 'اور', 'اے', 'ایسا', 'ایسے', 'ایسی', 'ایک', 'آ', 'آپ', 'آتا', 'آتے', 'آتی', 'آگے', 'آنا', 'آنے', 'آنی', 'آئے', 'آئی', 'آئیں', 'آیا', 'با', 'بڑا', 'بڑے', 'بڑی', 'بعد', 'بعض', 'بلکہ', 'بہت', 'بھی', 'بے', 'پاس', 'پر', 'پہلے', 'پھر', 'تا', 'تاکہ', 'تب', 'تجھ', 'تجھے', 'تک', 'تم', 'تمام', 'تمہارا', 'تمہارے', 'تمھارے', 'تمہاری', 'تمہیں', 'تمھیں', 'تھا', 'تھے', 'تھی', 'تھیں', 'تو', 'تیری', 'تیرے', 'جا', 'جاتا', 'جاتی', 'جاتے', 'جاتی', 'جانے', 'جانی', 'جاؤ', 'جائے', 'جائیں', 'جب', 'جس', 'جن', 'جنہوں', 'جنہیں', 'جو', 'جیسا', 'جیسے', 'جیسی', 'جیسوں', 'چاہیئے', 'چلا', 'چاہے', 'چونکہ', 'حالاں', 'حالانکہ', 'دو', 'دونوں', 'دوں', 'دے', 'دی', 'دیا', 'دیں', 'دیے', 'دیتا', 'دیتے', 'دیتی', 'دینا', 'دینے', 'دینی', 'دیئے', 'ڈالا', 'ڈالنا', 'ڈالنے', 'ڈالنی', 'ڈالے', 'ڈالی', 'ذرا', 'رکھا', 'رکھتا', 'رکھتے', 'رکھتی', 'رکھنا', 'رکھنے', 'رکھنی', 'رکھے', 'رکھی', 'رہ', 'رہا', 'رہتا', 'رہتے', 'رہتی', 'رہنا', 'رہنے', 'رہنی', 'رہو', 'رہے', 'رہی', 'رہیں', 'زیادہ', 'سا', 'سامنے', 'سب', 'سکتا', 'سو', 'سے', 'سی', 'شاید', 'صرف', 'طرح', 'طرف', 'عین', 'کا', 'کبھی', 'کچھ', 'کہہ', 'کر', 'کرتا', 'کرتے', 'کرتی', 'کرنا', 'کرنے', 'کرو', 'کروں', 'کرے', 'کریں', 'کس', 'کسے', 'کسی', 'کہ', 'کہا', 'کہے', 'کو', 'کون', 'کوئی', 'کے', 'کی', 'کیا', 'کیسے', 'کیوں', 'کیونکہ', 'کیے', 'کئے', 'گا', 'گویا', 'گے', 'گی', 'گیا', 'گئے', 'گئی', 'لا', 'لاتا', 'لاتے', 'لاتی', 'لانا', 'لانے', 'لانی', 'لایا', 'لائے', 'لائی', 'لگا', 'لگے', 'لگی', 'لگیں', 'لو', 'لے', 'لی', 'لیا', 'لیتا', 'لیتے', 'لیتی', 'لیکن', 'لیں', 'لیے', 'لئے', 'مجھ', 'مجھے', 'مگر', 'میرا', 'میرے', 'میری', 'میں', 'نا', 'نہ', 'نہایت', 'نہیں', 'نے', 'ہاں', 'ہر', 'ہم', 'ہمارا', 'ہمارے', 'ہماری', 'ہو', 'ہوا', 'ہوتا', 'ہوتے', 'ہوتی', 'ہوتیں', 'ہوں', 'ہونا', 'ہونگے', 'ہونے', 'ہونی', 'ہوئے', 'ہوئی', 'ہوئیں', 'ہے', 'ہی', 'ہیں', 'و', 'والا', 'والوں', 'والے', 'والی', 'وہ', 'وہاں', 'وہی', 'وہیں', 'یا', 'یعنی', 'یہ', 'یہاں', 'یہی', 'یہیں']\n"
     ]
    }
   ],
   "source": [
    "stopwords = list()\n",
    "with open(\"Urdu stopwords.txt\", encoding=\"utf-8\") as f:\n",
    "    stopwords.extend(f.read().split(\"\\n\"))\n",
    "\n",
    "print(stopwords)"
   ]
  },
  {
   "cell_type": "code",
   "execution_count": 5,
   "metadata": {},
   "outputs": [],
   "source": [
    "output_dir = \"output_files\"\n",
    "try:\n",
    "    os.mkdir(output_dir)\n",
    "except FileExistsError:\n",
    "    pass"
   ]
  },
  {
   "cell_type": "code",
   "execution_count": 7,
   "metadata": {},
   "outputs": [],
   "source": [
    "docids = dict()\n",
    "termids = dict()\n",
    "doc_index = dict()\n",
    "\n",
    "doc_enum = 1\n",
    "term_enum = 1"
   ]
  },
  {
   "cell_type": "code",
   "execution_count": 24,
   "metadata": {},
   "outputs": [],
   "source": [
    "for doc in os.listdir(folder):\n",
    "    docname = doc.rsplit(\".\", 1)[0]\n",
    "    try:\n",
    "        docids[docname]\n",
    "    except KeyError:\n",
    "        docids[docname] = doc_enum\n",
    "        doc_enum += 1\n",
    "    \n",
    "    with open(os.path.join(folder, doc), encoding=\"utf-8\") as f:\n",
    "        content = f.read()\n",
    "        parser = CustomHTMLParser()\n",
    "        parser.feed(content)\n",
    "        if (bool(BeautifulSoup(parser.content, \"html.parser\").find())):\n",
    "            print(doc)\n",
    "        content = parser.content\n",
    "        content = content.replace(\"\\n\", \" \")\n",
    "        # Removing all english characters.\n",
    "        content = ''.join([l for l in content if not ((l >= 'a' and l <= 'z') or (l >= 'A' and l <= 'Z'))])\n",
    "        tokens = content.split(\" \")\n",
    "        for i, tok in enumerate(tokens):\n",
    "            if tok in stopwords:\n",
    "                continue\n",
    "            try:\n",
    "                termids[tok]\n",
    "            except KeyError:\n",
    "                termids[tok] = term_enum\n",
    "                term_enum += 1\n",
    "            \n",
    "            doc_index.setdefault(docids[docname], dict())\n",
    "            doc_index[docids[docname]].setdefault(termids[tok], list())\n",
    "            doc_index[docids[docname]][termids[tok]].append(i)\n"
   ]
  },
  {
   "cell_type": "code",
   "execution_count": 31,
   "metadata": {},
   "outputs": [],
   "source": [
    "with open(os.path.join(output_dir, \"docids.txt\"), \"w\") as f:\n",
    "    for doc, id in docids.items():\n",
    "        f.write(f\"{id}\\t{doc}\\n\")\n",
    "\n",
    "with open(os.path.join(output_dir, \"termids.txt\"), \"w\") as f:\n",
    "    for term, id in termids.items():\n",
    "        f.write(f\"{id}\\t{term}\\n\")\n",
    "\n",
    "with open(os.path.join(output_dir, \"doc_index.txt\"), \"w\") as f:\n",
    "    for docid, val in doc_index.items():\n",
    "        for termid, postings in val.items():\n",
    "            f.write(\"{docid}\\t{termid}\\t{postings}\\n\".format(**{\"docid\" : docid, \"termid\" : termid, \"postings\" : '\\t'.join([str(p) for p in postings])}))\n"
   ]
  },
  {
   "cell_type": "code",
   "execution_count": null,
   "metadata": {},
   "outputs": [],
   "source": []
  }
 ],
 "metadata": {
  "kernelspec": {
   "display_name": "info_ret",
   "language": "python",
   "name": "python3"
  },
  "language_info": {
   "codemirror_mode": {
    "name": "ipython",
    "version": 3
   },
   "file_extension": ".py",
   "mimetype": "text/x-python",
   "name": "python",
   "nbconvert_exporter": "python",
   "pygments_lexer": "ipython3",
   "version": "3.10.6"
  },
  "orig_nbformat": 4,
  "vscode": {
   "interpreter": {
    "hash": "fa7cf24ee7b56341df9b8a0e3821479b906e5ff3e65bdf7bd0937ac4590b29ad"
   }
  }
 },
 "nbformat": 4,
 "nbformat_minor": 2
}
